{
 "cells": [
  {
   "cell_type": "code",
   "execution_count": 1,
   "metadata": {},
   "outputs": [],
   "source": [
    "# Importing sys to define my module's filepath\n",
    "import sys"
   ]
  },
  {
   "cell_type": "code",
   "execution_count": 2,
   "metadata": {},
   "outputs": [],
   "source": [
    "# Appending filepath to sys.path\n",
    "sys.path.append(\"/home/christopher.t_snhu/\")"
   ]
  },
  {
   "cell_type": "code",
   "execution_count": 3,
   "metadata": {},
   "outputs": [],
   "source": [
    "# Importing AnimalShelter class from my module aac_crud\n",
    "from aac_crud import AnimalShelter"
   ]
  },
  {
   "cell_type": "code",
   "execution_count": 4,
   "metadata": {},
   "outputs": [
    {
     "name": "stdout",
     "output_type": "stream",
     "text": [
      "done\n"
     ]
    }
   ],
   "source": [
    "# Creating object. \"done\" = successful creation\n",
    "myObj = AnimalShelter('EnterUsername', 'EnterPass')"
   ]
  },
  {
   "cell_type": "code",
   "execution_count": 12,
   "metadata": {},
   "outputs": [],
   "source": [
    "myDict = {'': 4, 'age_upon_outcome': '5 years', 'animal_id': 'F85438A', 'animal_type': 'Python', 'breed': 'Ball', 'color': 'Grey', 'date_of_birth': '2014-01-25', 'datetime': '2014-08-27 18:11:00', 'monthyear': '2014-08-27T18:11:00', 'name': 'Landon', 'outcome_subtype': '', 'outcome_type': 'Adoption', 'sex_upon_outcome': 'Intact Male', 'location_lat': 30.3188063374257, 'location_long': -97.7240376703891, 'age_upon_outcome_in_weeks': 30.8225198412698}"
   ]
  },
  {
   "cell_type": "code",
   "execution_count": 13,
   "metadata": {},
   "outputs": [
    {
     "name": "stdout",
     "output_type": "stream",
     "text": [
      "True\n"
     ]
    }
   ],
   "source": [
    "# Testing create\n",
    "myObj.create(myDict)"
   ]
  },
  {
   "cell_type": "code",
   "execution_count": 14,
   "metadata": {
    "scrolled": true
   },
   "outputs": [],
   "source": [
    "query = {'animal_type': 'Python'}"
   ]
  },
  {
   "cell_type": "code",
   "execution_count": 15,
   "metadata": {},
   "outputs": [
    {
     "name": "stdout",
     "output_type": "stream",
     "text": [
      "{'_id': ObjectId('6106eecf63bbbac839c6abef'), '': 4, 'age_upon_outcome': '5 years', 'animal_id': 'F85438A', 'animal_type': 'Python', 'breed': 'Ball', 'color': 'Grey', 'date_of_birth': '2014-01-25', 'datetime': '2014-08-27 18:11:00', 'monthyear': '2014-08-27T18:11:00', 'name': 'Landon', 'outcome_subtype': '', 'outcome_type': 'Adoption', 'sex_upon_outcome': 'Intact Male', 'location_lat': 30.3188063374257, 'location_long': -97.7240376703891, 'age_upon_outcome_in_weeks': 30.8225198412698}\n"
     ]
    }
   ],
   "source": [
    "# ensuring the python was created\n",
    "myObj.read(query)"
   ]
  },
  {
   "cell_type": "code",
   "execution_count": 16,
   "metadata": {},
   "outputs": [
    {
     "name": "stdout",
     "output_type": "stream",
     "text": [
      "Updated\n",
      "{'_id': ObjectId('6106eecf63bbbac839c6abef'), '': 4, 'age_upon_outcome': '8 years', 'animal_id': 'F85438A', 'animal_type': 'Python', 'breed': 'Ball', 'color': 'Grey', 'date_of_birth': '2014-01-25', 'datetime': '2014-08-27 18:11:00', 'monthyear': '2014-08-27T18:11:00', 'name': 'Landon', 'outcome_subtype': '', 'outcome_type': 'Adoption', 'sex_upon_outcome': 'Intact Male', 'location_lat': 30.3188063374257, 'location_long': -97.7240376703891, 'age_upon_outcome_in_weeks': 30.8225198412698}\n"
     ]
    }
   ],
   "source": [
    "# Updating the Python record\n",
    "update = {\"$set\": { \"age_upon_outcome\": \"8 years\" }}\n",
    "myObj.update(query, update)"
   ]
  },
  {
   "cell_type": "code",
   "execution_count": 17,
   "metadata": {},
   "outputs": [],
   "source": [
    "# Deleting the Python record\n",
    "myObj.delete(query)"
   ]
  },
  {
   "cell_type": "code",
   "execution_count": 18,
   "metadata": {},
   "outputs": [],
   "source": [
    "# ensuring record was deleted\n",
    "myObj.read(query)"
   ]
  }
 ],
 "metadata": {
  "kernelspec": {
   "display_name": "Python 3",
   "language": "python",
   "name": "python3"
  },
  "language_info": {
   "codemirror_mode": {
    "name": "ipython",
    "version": 3
   },
   "file_extension": ".py",
   "mimetype": "text/x-python",
   "name": "python",
   "nbconvert_exporter": "python",
   "pygments_lexer": "ipython3",
   "version": "3.6.9"
  }
 },
 "nbformat": 4,
 "nbformat_minor": 2
}
